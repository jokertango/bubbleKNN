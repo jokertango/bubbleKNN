{
 "cells": [
  {
   "cell_type": "code",
   "execution_count": 1,
   "metadata": {},
   "outputs": [
    {
     "name": "stderr",
     "output_type": "stream",
     "text": [
      "/Users/adamcasper/anaconda2/lib/python2.7/site-packages/sklearn/cross_validation.py:41: DeprecationWarning: This module was deprecated in version 0.18 in favor of the model_selection module into which all the refactored classes and functions are moved. Also note that the interface of the new CV iterators are different from that of this module. This module will be removed in 0.20.\n",
      "  \"This module will be removed in 0.20.\", DeprecationWarning)\n"
     ]
    }
   ],
   "source": [
    "import scipy\n",
    "import pandas as pd\n",
    "import numpy as np\n",
    "import seaborn as sns\n",
    "import matplotlib.pyplot as plt\n",
    "from collections import Counter\n",
    "from sklearn import svm\n",
    "from sklearn.tree import DecisionTreeClassifier\n",
    "from sklearn.model_selection import GridSearchCV\n",
    "from sklearn.neighbors import KNeighborsClassifier\n",
    "from decimal import Decimal\n",
    "from sklearn import cross_validation\n",
    "%config InlineBackend.figure_format = 'retina'"
   ]
  },
  {
   "cell_type": "code",
   "execution_count": 2,
   "metadata": {
    "collapsed": true
   },
   "outputs": [],
   "source": [
    "def simple_GridSearchCV_fit(X_train_val, Y_train_val, n_list, fold):\n",
    "    \"\"\"\n",
    "    A simple grid search function for k with cross-validation in k-NN.\n",
    "    \n",
    "    X_train_val: Features for train and val set. \n",
    "                 Shape: (num of data points, num of features)\n",
    "    Y_train_val: Labels for train and val set.\n",
    "                 Shape: (num of data points,)\n",
    "    k_list:      The list of k values to try.\n",
    "    fold:        The number of folds to do the cross-validation.\n",
    "    \n",
    "    Return the val and train accuracy matrix of cross-validation. \n",
    "    All combinations of k are included in the array. \n",
    "    Shape: (len(k_list), )\n",
    "    \"\"\"\n",
    "    val_acc_array = np.zeros(len(n_list))\n",
    "    train_acc_array = np.zeros(len(n_list))\n",
    "    for i in range(len(n_list)):\n",
    "        val_acc_array[i], train_acc_array[i] = simple_cross_validation(X_train_val, Y_train_val, n_list[i], fold)\n",
    "    return val_acc_array, train_acc_array"
   ]
  },
  {
   "cell_type": "code",
   "execution_count": 3,
   "metadata": {
    "collapsed": true
   },
   "outputs": [],
   "source": [
    "def simple_cross_validation(X, Y, n, fold):\n",
    "    \"\"\"\n",
    "    A simple cross-validation function for k-NN.\n",
    "    \n",
    "    X_train_val: Features for train and val set. \n",
    "                 Shape: (num of data points, num of features)\n",
    "    Y_train_val: Labels for train and val set.\n",
    "                 Shape: (num of data points,)\n",
    "    k:           Parameter k for k-NN.\n",
    "    fold:        The number of folds to do the cross-validation.\n",
    "    \n",
    "    Return the average accuracy on validation set.\n",
    "    \n",
    "    \"\"\"\n",
    "    \n",
    "    val_acc_list = []\n",
    "    train_acc_list = []\n",
    "    \n",
    "    topends = 0\n",
    "    bottomstarts = 0\n",
    "    val_acc = 0\n",
    "    train_acc = 0\n",
    "    for i in range(fold):     \n",
    "        \n",
    "        NumPerFold = int(X.shape[0]/fold)\n",
    "        bottomstarts = NumPerFold*(i+1)\n",
    "        topends = i * NumPerFold\n",
    "        Xtrain = np.vstack((X[:topends], X[bottomstarts:]))\n",
    "        Ytrain = np.vstack((Y[:topends].reshape(-1,1), Y[bottomstarts:].reshape(-1,1))).reshape(-1)\n",
    "        Xval = X[topends:bottomstarts]\n",
    "        Yval = Y[topends:bottomstarts]\n",
    "        numYval = len(Yval)\n",
    "        \n",
    "        # Actually you can use the built-in function from sklearn\n",
    "        # to validate if your implementation is correct or not:\n",
    "        #    from sklearn.neighbors import KNeighborsClassifier\n",
    "        #classifier  = KNeighborsClassifier(algorithm='brute', n_neighbors=k)\n",
    "        classifier = bubble_KNeighborsClassifier(n=n)\n",
    "        classifier.fit(Xtrain, Ytrain)\n",
    "        YvalPred = classifier.predict(Xval)\n",
    "        YtrainPred = classifier.predict(Xtrain)\n",
    "        \n",
    "        \n",
    "        correctval = 0\n",
    "        for i in range(len(Yval)):\n",
    "            if Yval[i] == YvalPred[i]:\n",
    "                correctval = correctval+1       \n",
    "        val_acc = float(correctval)/len(Yval)\n",
    "        val_acc_list.append(val_acc)\n",
    "        \n",
    "        correcttrain = 0\n",
    "        for i in range(len(Ytrain)):\n",
    "            if Ytrain[i] == YtrainPred[i] :\n",
    "                correcttrain = correcttrain+1\n",
    "        train_acc = float(correcttrain)/len(Ytrain)\n",
    "        train_acc_list.append(train_acc)\n",
    "        \n",
    "    return sum(val_acc_list) / len(val_acc_list), \\\n",
    "           sum(train_acc_list) / len(train_acc_list)"
   ]
  },
  {
   "cell_type": "code",
   "execution_count": 4,
   "metadata": {
    "collapsed": true
   },
   "outputs": [],
   "source": [
    "def getNpercentSamples(X, percent):\n",
    "    n = int(len(X)*percent)\n",
    "    return n"
   ]
  },
  {
   "cell_type": "code",
   "execution_count": 5,
   "metadata": {
    "collapsed": true
   },
   "outputs": [],
   "source": [
    "\n",
    "def splitSets(X_and_Y, n):\n",
    "    np.random.shuffle(X_and_Y)\n",
    "    X = X_and_Y[:, :-1]       # First column to second last column: Features (numerical values) \n",
    "    Y = X_and_Y[:, -1:]       # Last column: Labels (0 or 1)\n",
    "    X_train_val = X[:n, :] # Get features from train + val set.\n",
    "    X_test      = X[n:, :] # Get features from test set.     \n",
    "    Y_train_val = Y[:n, :].reshape(-1) # Get labels from train + val set.\n",
    "    Y_test      = Y[n:, :].reshape(-1) # Get labels from test set.  \n",
    "    \n",
    "    return X_train_val, X_test, Y_train_val, Y_test\n",
    "    \n",
    "#print(X_train_val.shape, X_test.shape, Y_train_val.shape, Y_test.shape)"
   ]
  },
  {
   "cell_type": "code",
   "execution_count": 6,
   "metadata": {
    "collapsed": true
   },
   "outputs": [],
   "source": [
    "def treeClassifier(X_train_val, Y_train_val):\n",
    "    classifier = DecisionTreeClassifier(criterion=\"entropy\")\n",
    "    D_list     = [1, 2, 3, 4, 5] # Different D to try.\n",
    "    param = {'max_depth': D_list}\n",
    "    clf = GridSearchCV(classifier, param, cv=5)\n",
    "    return clf.fit(X_train_val, Y_train_val)"
   ]
  },
  {
   "cell_type": "code",
   "execution_count": 7,
   "metadata": {
    "collapsed": true
   },
   "outputs": [],
   "source": [
    "def knnClassifier(X_train_val, Y_train_val): \n",
    "    classifier = KNeighborsClassifier(algorithm='brute') \n",
    "    K = [1, 2, 3, 4, 5] \n",
    "    params = {'n_neighbors': K}\n",
    "\n",
    "    clf = GridSearchCV(classifier, params, cv=5)\n",
    "    return clf.fit(X_train_val, Y_train_val)"
   ]
  },
  {
   "cell_type": "code",
   "execution_count": 8,
   "metadata": {
    "collapsed": true
   },
   "outputs": [],
   "source": [
    "def bubble_knnClassifier(X_train_val, Y_train_val):\n",
    "    classifier = bubble_KNeighborsClassifier()\n",
    "    nsamples = [5, 6, 7, 8, 9, 10]\n",
    "    n = [3,4,5,6,7]\n",
    "    multiplier = [0.125 ,0.25, 0.5, 0.75, 1, 1.5, 1.75, 2]\n",
    "    param = {'nsamples': nsamples, 'n': n, 'multiplier': multiplier}\n",
    "    \n",
    "    clf = simple_GridSearchCV_fit(X_train_val, Y_train_val, n, fold=5)\n",
    "    return clf"
   ]
  },
  {
   "cell_type": "code",
   "execution_count": 9,
   "metadata": {
    "collapsed": true
   },
   "outputs": [],
   "source": [
    "def draw_heatmap_knn(acc, acc_desc, n_list):\n",
    "    plt.figure(figsize = (2,4))\n",
    "    ax = sns.heatmap(acc, annot=True, fmt='.3f', yticklabels=n_list, xticklabels=[])\n",
    "    ax.collections[0].colorbar.set_label(\"accuracy\")\n",
    "    ax.set(ylabel='$n$')\n",
    "    plt.title(acc_desc + ' w.r.t $n$')\n",
    "    sns.set_style(\"whitegrid\", {'axes.grid' : False})\n",
    "    plt.show()\n",
    "    "
   ]
  },
  {
   "cell_type": "code",
   "execution_count": 10,
   "metadata": {
    "collapsed": true
   },
   "outputs": [],
   "source": [
    "def simple_knnClassifier(X_train_val, Y_train_val):\n",
    "   \n",
    "    classifier = simple_KNeighborsClassifier(k=3)\n",
    "    K = [1, 2, 3, 4, 5]\n",
    "    param = {'k': K}\n",
    "    \n",
    "    clf = GridSearchCV(classifier, param, cv=5, scoring='accuracy' )\n",
    "    return clf.fit(X_train_val, Y_train_val)"
   ]
  },
  {
   "cell_type": "code",
   "execution_count": 11,
   "metadata": {
    "collapsed": true
   },
   "outputs": [],
   "source": [
    "def draw_heatmap_knn(acc, acc_desc, k_list):\n",
    "    plt.figure(figsize = (2,4))\n",
    "    ax = sns.heatmap(acc, annot=True, fmt='.3f', yticklabels=k_list, xticklabels=[])\n",
    "    ax.collections[0].colorbar.set_label(\"accuracy\")\n",
    "    ax.set(ylabel='$n$')\n",
    "    plt.title(acc_desc + ' w.r.t $n$')\n",
    "    sns.set_style(\"whitegrid\", {'axes.grid' : False})\n",
    "    plt.show()"
   ]
  },
  {
   "cell_type": "code",
   "execution_count": 12,
   "metadata": {
    "collapsed": true
   },
   "outputs": [],
   "source": [
    "def svmClassifier(X_train_val, Y_train_val):\n",
    "    classifier = svm.SVC()\n",
    "    gamma_list = [1e-7, 1e-6, 1e-5, 1e-4]\n",
    "    C_list = [0.00001, 0.0001, 0.001, 0.01, 0.1, 1.0] # Different C to try.\n",
    "    param = {'kernel':['linear','rbf'], 'C': C_list, 'gamma': gamma_list}\n",
    "    clf = GridSearchCV(classifier, param, cv=5)\n",
    "    return clf.fit(X_train_val, Y_train_val)"
   ]
  },
  {
   "cell_type": "code",
   "execution_count": 13,
   "metadata": {
    "collapsed": true
   },
   "outputs": [],
   "source": [
    "carX_and_Y = pd.read_table('auto-mpg.txt', header=None, delim_whitespace=True)      # Load data from file.\n",
    "carX_and_Y.rename(columns={8: 'car'}, inplace=True)\n",
    "carX_and_Y['origin'] = None\n",
    "carX_and_Y = carX_and_Y[[0, 1, 2, 3, 4, 5, 6, 7, 'car', 'origin']]\n",
    "carX_and_Y = carX_and_Y[carX_and_Y[3] != '?']\n",
    "\n",
    "for i, row in carX_and_Y.iterrows():\n",
    "    car_val = 0\n",
    "    if row['car'].startswith(\"chevrolet\") or row['car'].startswith(\"buick\") or row['car'].startswith(\"plymouth\") or row['car'].startswith(\"amc\") or row['car'].startswith(\"ford\") or row['car'].startswith(\"pontiac\") or row['car'].startswith(\"dodge\") or row['car'].startswith(\"chevy\") or row['car'].startswith(\"mercury\") or row['car'].startswith(\"chrysler\") or row['car'].startswith(\"oldsmobile\") or row['car'].startswith(\"cadillac\"):\n",
    "        car_val = 1\n",
    "        carX_and_Y.set_value(i,'origin', car_val)\n",
    "    else:\n",
    "        carX_and_Y.set_value(i, 'origin', car_val)\n",
    "    \n",
    "        \n",
    "carX_and_Y.drop(['car'], axis=1, inplace=True)\n",
    "carX_and_Y = carX_and_Y.astype('float64')\n",
    "\n",
    "        \n",
    "carX_and_Y = carX_and_Y.as_matrix()\n",
    "np.random.seed(0)\n",
    "np.random.shuffle(carX_and_Y)   # Shuffle the data.\n",
    "#X = carX_and_Y[:, :-1]       # First column to second last column: Features (numerical values) \n",
    "#Y = carX_and_Y[:, -1:]       # Last column: Labels (0 or 1)"
   ]
  },
  {
   "cell_type": "code",
   "execution_count": 14,
   "metadata": {},
   "outputs": [
    {
     "ename": "NameError",
     "evalue": "name 'coverX_and_Y' is not defined",
     "output_type": "error",
     "traceback": [
      "\u001b[0;31m---------------------------------------------------------------------------\u001b[0m",
      "\u001b[0;31mNameError\u001b[0m                                 Traceback (most recent call last)",
      "\u001b[0;32m<ipython-input-14-12c9770f6801>\u001b[0m in \u001b[0;36m<module>\u001b[0;34m()\u001b[0m\n\u001b[1;32m      2\u001b[0m \u001b[0;34m\u001b[0m\u001b[0m\n\u001b[1;32m      3\u001b[0m \u001b[0mcar\u001b[0m \u001b[0;34m=\u001b[0m \u001b[0mcarX_and_Y\u001b[0m\u001b[0;34m\u001b[0m\u001b[0m\n\u001b[0;32m----> 4\u001b[0;31m \u001b[0mcover\u001b[0m \u001b[0;34m=\u001b[0m \u001b[0mcoverX_and_Y\u001b[0m\u001b[0;34m[\u001b[0m\u001b[0;34m:\u001b[0m\u001b[0;36m300\u001b[0m\u001b[0;34m]\u001b[0m\u001b[0;34m\u001b[0m\u001b[0m\n\u001b[0m\u001b[1;32m      5\u001b[0m \u001b[0mletter\u001b[0m \u001b[0;34m=\u001b[0m \u001b[0mletterX_and_Y\u001b[0m\u001b[0;34m[\u001b[0m\u001b[0;34m:\u001b[0m\u001b[0;36m150\u001b[0m\u001b[0;34m]\u001b[0m\u001b[0;34m\u001b[0m\u001b[0m\n\u001b[1;32m      6\u001b[0m \u001b[0;31m#X_train_val, X_test, Y_train_val, Y_test = splitSets(car, splitIndex)\u001b[0m\u001b[0;34m\u001b[0m\u001b[0;34m\u001b[0m\u001b[0m\n",
      "\u001b[0;31mNameError\u001b[0m: name 'coverX_and_Y' is not defined"
     ]
    }
   ],
   "source": [
    "\n",
    "\n",
    "car = carX_and_Y\n",
    "#cover = coverX_and_Y[:300]\n",
    "#letter = letterX_and_Y[:150]\n",
    "#X_train_val, X_test, Y_train_val, Y_test = splitSets(car, splitIndex)\n",
    "#print(np.unique(Y_train_val))\n",
    "#print(np.unique(Y_test))"
   ]
  },
  {
   "cell_type": "code",
   "execution_count": 15,
   "metadata": {
    "collapsed": true
   },
   "outputs": [],
   "source": [
    "class bubble_KNeighborsClassifier(object):\n",
    "    def __init__(self, n=5, nsamples=10, multiplier=0.5):\n",
    "        \"\"\"\n",
    "        k-NN initialization.\n",
    "            k: Number of nearest neighbors.\n",
    "        \"\"\"\n",
    "        \n",
    "        self.n = n\n",
    "        self.nsamples = nsamples\n",
    "        self.multiplier = multiplier\n",
    "        \n",
    "    def fit(self, X_train, Y_train):\n",
    "        \"\"\"\n",
    "        k-NN fitting function.\n",
    "            X_train: Feature vectors in training set.\n",
    "            Y_train: Labels in training set.\n",
    "        \"\"\"\n",
    "        self.X_train = X_train\n",
    "        self.Y_train = Y_train\n",
    "        \n",
    "    def predict(self, X_pred):\n",
    "        \"\"\"\n",
    "        k-NN prediction function.\n",
    "        X_pred: Feature vectors in training set.\n",
    "        Return the predicted labels for X_pred. Shape: (len(X_pred), ).\n",
    "        \n",
    "        \"\"\"\n",
    "        \"\"\"Randomly choose n samples of the same class and calculate the average\n",
    "           distance between them to determine the size of the bubble around a \n",
    "           sample to predict\n",
    "           \n",
    "        \"\"\"\n",
    "        increment=0\n",
    "        sumdist = 0\n",
    "        avgDist = 0\n",
    "        nPoints = []\n",
    "        \n",
    "        zero = np.zeros((1,1))\n",
    "        for i in range(len(self.Y_train)):\n",
    "            if self.Y_train[i] == zero:\n",
    "                nPoints.append(self.X_train[i])\n",
    "                increment+=1\n",
    "            if increment == self.nsamples:\n",
    "                break\n",
    "        for sampl in nPoints:\n",
    "            for point in nPoints:\n",
    "                #if np.array_equal(point,sampl)==False:\n",
    "                distance = np.linalg.norm(np.array(point) - np.array(sampl))\n",
    "                    #print(distance)\n",
    "                sumdist += distance\n",
    "        avgDist = sumdist / (len(nPoints)*len(nPoints))\n",
    "        \n",
    "        \n",
    "                \n",
    "            \n",
    "        Y_pred = []\n",
    "        \n",
    "        \n",
    "        maximum = 100\n",
    "        iterations = 0\n",
    "        \n",
    "        \n",
    "        for sample in X_pred:\n",
    "            count = 0\n",
    "            bubbleGroupindex = []\n",
    "            \n",
    "            for index, instance in enumerate(self.X_train, start=0):    \n",
    "                if np.array_equal(instance,sample)==False:\n",
    "                    features = 0\n",
    "                    for i in range(len(instance)):\n",
    "                        \n",
    "                        if np.greater(instance[i],(sample[i]-self.multiplier*avgDist)) and np.less(instance[i],(sample[i]+self.multiplier*avgDist)):\n",
    "                            features+=1\n",
    "                        else:\n",
    "                            break\n",
    "                        if features == len(instance):\n",
    "                            bubbleGroupindex.append(index)\n",
    "                        \n",
    "                            \n",
    "                            count+=1\n",
    "                        if count==self.n:\n",
    "                            break\n",
    "                    iterations+=1\n",
    "                if count==self.n or iterations == maximum:\n",
    "                    break\n",
    "            bubbleindices = np.asarray(bubbleGroupindex)\n",
    "            #print(bubbleindices)\n",
    "            \"\"\"\"print(bubble)    \n",
    "            dist = 0   \n",
    "            dList = []\n",
    "            \n",
    "            for index in bubble:\n",
    "                #if np.array_equal(datapoint,sample)==False:\n",
    "                distances = np.linalg.norm(np.array(self.X_train[index]) - np.array(sample))\n",
    "                distances_and_labels = [(distances[i], self.Y_train[i]) \\\n",
    "                                    for i in range(len(self.X_train))]\n",
    "            print(distances_and_lables)\n",
    "            \n",
    "            \n",
    "            \n",
    "            #get k closest neighbors indices\n",
    "            Neighborsindices = Dlist.argsort()[:self.k]\"\"\"\n",
    "            \n",
    "            label0 = 0\n",
    "            label1 = 0\n",
    "            pred = 0\n",
    "            \n",
    "            for index in bubbleindices:\n",
    "                if self.Y_train[index]==0:\n",
    "                    label0 +=1\n",
    "                else:\n",
    "                    label1 +=1\n",
    "            if label1 >= label0:\n",
    "                pred = 1\n",
    "            else:\n",
    "                pred = 0\n",
    "                \n",
    "            Y_pred.append(pred)\n",
    "        return np.array(Y_pred)\n",
    "                \n",
    "                \n",
    "       "
   ]
  },
  {
   "cell_type": "code",
   "execution_count": 16,
   "metadata": {},
   "outputs": [
    {
     "data": {
      "image/png": "[encoded data removed]",
      "text/plain": [
       "<matplotlib.figure.Figure at 0x1a0ff89dd0>"
      ]
     },
     "metadata": {
      "image/png": {
       "height": 249,
       "width": 190
      }
     },
     "output_type": "display_data"
    },
    {
     "data": {
      "image/png": "[encoded data removed]",
      "text/plain": [
       "<matplotlib.figure.Figure at 0x1a0ff89b50>"
      ]
     },
     "metadata": {
      "image/png": {
       "height": 247,
       "width": 183
      }
     },
     "output_type": "display_data"
    }
   ],
   "source": [
    "\n",
    "X_train_val, X_test, Y_train_val, Y_test = splitSets(carX_and_Y, 300)\n",
    "n = [3,4,5,6,7]\n",
    "val_acc_array, train_acc_array = bubble_knnClassifier(X_train_val, Y_train_val)\n",
    "draw_heatmap_knn(train_acc_array.reshape(-1,1), 'train accuracy', n)\n",
    "draw_heatmap_knn(val_acc_array.reshape(-1,1), 'val accuracy', n)\n"
   ]
  },
  {
   "cell_type": "code",
   "execution_count": 17,
   "metadata": {
    "collapsed": true
   },
   "outputs": [],
   "source": [
    "# 3) Implement the k-NN.\n",
    "class simple_KNeighborsClassifier(object):\n",
    "    def __init__(self, k=5):\n",
    "\n",
    "        \n",
    " \n",
    "        \"\"\"\n",
    "        k-NN initialization.\n",
    "            k: Number of nearest neighbors.\n",
    "        \"\"\"\n",
    "        self.k = k\n",
    "        \n",
    "    def fit(self, X_train, Y_train):\n",
    "        \"\"\"\n",
    "        k-NN fitting function.\n",
    "            X_train: Feature vectors in training set.\n",
    "            Y_train: Labels in training set.\n",
    "        \"\"\"\n",
    "        self.X_train = X_train\n",
    "        self.Y_train = Y_train\n",
    "        \n",
    "    def predict(self, X_pred):\n",
    "        \"\"\"\n",
    "        k-NN prediction function.\n",
    "            X_pred: Feature vectors in training set.\n",
    "        Return the predicted labels for X_pred. Shape: (len(X_pred), )\n",
    "        \"\"\"\n",
    "        Y_pred = []\n",
    "        for i in range(len(X_pred)):\n",
    "            distances = ((self.X_train - X_pred[i].reshape(1,-1)) \\\n",
    "                          ** 2.0).sum(axis = 1)\n",
    "            distances_and_labels = [(distances[i], self.Y_train[i]) \\\n",
    "                                    for i in range(len(self.X_train))]\n",
    "            distances_and_labels.sort()\n",
    "            top_k_labels = np.array(distances_and_labels)[:self.k,1].ravel()\n",
    "            mode, _ = scipy.stats.mode(top_k_labels)\n",
    "            Y_pred.append(mode[0])\n",
    "        return np.array(Y_pred)\n",
    "   \n",
    "        \n",
    "        \n",
    "        "
   ]
  },
  {
   "cell_type": "code",
   "execution_count": 18,
   "metadata": {
    "collapsed": true
   },
   "outputs": [],
   "source": [
    "def bubbleACC(X_train_val, Y_train_val, X_test, Y_test,n):\n",
    "\n",
    "    \n",
    "\n",
    "    test_acc_list = []\n",
    "\n",
    "    nsampl = 10\n",
    "    multipl = .25\n",
    "\n",
    "\n",
    "    classifier = bubble_KNeighborsClassifier(n=n,nsamples=nsampl,multiplier=multipl)\n",
    "    classifier.fit(X_train_val, Y_train_val)\n",
    "    YtestPred = classifier.predict(X_test)\n",
    "    YtrainPred = classifier.predict(X_train_val)\n",
    "\n",
    "\n",
    "    traincorrectval = 0\n",
    "    for i in range(len(Y_train_val)):\n",
    "        if YtrainPred[i] == Y_train_val[i]:\n",
    "            traincorrectval +=1\n",
    "        \n",
    "    testcorrectval = 0\n",
    "    for i in range(len(Y_test)):\n",
    "        if YtestPred[i] == Y_test[i]:\n",
    "            testcorrectval +=1\n",
    "\n",
    "\n",
    "\n",
    "    testacc = float(testcorrectval) / len(Y_test)\n",
    "\n",
    "    trainacc = float(traincorrectval) / len(Y_train_val)\n",
    "\n",
    "\n",
    "    return trainacc, testacc\n"
   ]
  },
  {
   "cell_type": "code",
   "execution_count": 19,
   "metadata": {},
   "outputs": [
    {
     "name": "stdout",
     "output_type": "stream",
     "text": [
      "0.760869565217\n"
     ]
    }
   ],
   "source": [
    "#%%timeit\n",
    "np.random.shuffle(carX_and_Y)\n",
    "X_train_val, X_test, Y_train_val, Y_test = splitSets(carX_and_Y,300)\n",
    "\n",
    "test_acc_list = []\n",
    "\n",
    "\n",
    "#k=3\n",
    "n=3\n",
    "nsamples = 10\n",
    "multiplier = .25\n",
    "\n",
    "\n",
    "classifier = simple_KNeighborsClassifier(k=n)\n",
    "classifier.fit(X_train_val, Y_train_val)\n",
    "YtestPred = classifier.predict(X_test)\n",
    "#YtrainPred = classifier.predict()\n",
    "\n",
    "\n",
    "correctval = 0\n",
    "for i in range(len(Y_test)):\n",
    "    if YtestPred[i] == Y_test[i]:\n",
    "        correctval +=1\n",
    "\n",
    "#print(correctval)\n",
    "#print(len(Y_test))\n",
    "\n",
    "accuracy = float(correctval) / len(Y_test)\n",
    "print(accuracy)"
   ]
  },
  {
   "cell_type": "code",
   "execution_count": 20,
   "metadata": {},
   "outputs": [
    {
     "name": "stdout",
     "output_type": "stream",
     "text": [
      "1\n",
      "2\n",
      "3\n",
      "4\n",
      "5\n",
      "6\n",
      "7\n",
      "8\n",
      "9\n"
     ]
    }
   ],
   "source": [
    "#1. load and clean carX_and_Y\n",
    "#   load and clean letterX_and_Y\n",
    "#   load and clean coverX_and_Y\n",
    "trainResults = np.zeros((36,4))\n",
    "testResults = np.zeros((36,4))\n",
    "\n",
    "SPLITS = np.array([0.2,0.5,0.8])\n",
    "DATASETS = [car]\n",
    "\n",
    "scorerow = 0\n",
    "avgrow = 27\n",
    "for splitindex, split in enumerate(SPLITS, start=0):\n",
    "    for datasetindex, dataset in enumerate(DATASETS, start=0):\n",
    "        splitIndex = getNpercentSamples(dataset, split)\n",
    "        \n",
    "\n",
    "        treeAccSumtest = 0\n",
    "        knnAccSumtest = 0\n",
    "        svmAccSumtest = 0\n",
    "        treeAccSumtrain = 0\n",
    "        knnAccSumtrain = 0\n",
    "        svmAccSumtrain = 0\n",
    "        bubbleAccSumtest = 0\n",
    "        bubbleAccSumtrain = 0\n",
    "        X_train_val, X_test, Y_train_val, Y_test = splitSets(dataset, splitIndex)\n",
    "        for i in range(3):\n",
    "            \n",
    "            '''#Decision Tree\n",
    "            treeCLF = treeClassifier(X_train_val, Y_train_val)\n",
    "            bestTree = DecisionTreeClassifier(criterion=\"entropy\", max_depth=(treeCLF.best_params_['max_depth'])).fit(X_train_val, Y_train_val)\n",
    "            treeAccSumtest +=  bestTree.score(X_test, Y_test)\n",
    "            treeAccSumtrain += bestTree.score(X_train_val, Y_train_val) \n",
    "            testResults[scorerow,0] = bestTree.score(X_test, Y_test)\n",
    "            trainResults[scorerow,0] = bestTree.score(X_train_val, Y_train_val)\n",
    "        \n",
    "            \n",
    "            \n",
    "            #k_NN\n",
    "            knnCLF = knnClassifier(X_train_val, Y_train_val)\n",
    "            bestKNN = KNeighborsClassifier(n_neighbors = knnCLF.best_params_[\"n_neighbors\"]).fit(X_train_val, Y_train_val)\n",
    "            knnAccSumtest += bestKNN.score(X_test, Y_test)\n",
    "            knnAccSumtrain += bestKNN.score(X_train_val, Y_train_val) \n",
    "            testResults[scorerow,1] = bestKNN.score(X_test, Y_test)\n",
    "            trainResults[scorerow,1] = bestKNN.score(X_train_val, Y_train_val)\n",
    "           \n",
    "\n",
    "            #SVM\n",
    "            svmCLF = svmClassifier(X_train_val, Y_train_val)\n",
    "            bestSVM = svm.SVC(kernel = (svmCLF.best_params_[\"kernel\"]), C =(svmCLF.best_params_[\"C\"])).fit(X_train_val, Y_train_val) \n",
    "            svmAccSumtest += bestSVM.score(X_test, Y_test)\n",
    "            svmAccSumtrain += bestSVM.score(X_train_val, Y_train_val) \n",
    "            testResults[scorerow,2] = bestSVM.score(X_test, Y_test)\n",
    "            trainResults[scorerow,2] = bestSVM.score(X_train_val, Y_train_val)'''\n",
    "            \n",
    "            #bubble_KNN\n",
    "            trainACC, testACC = bubbleACC(X_train_val, Y_train_val, X_test, Y_test,n=5)\n",
    "            bubbleAccSumtest += testACC\n",
    "            bubbleAccSumtrain += trainACC\n",
    "            testResults[scorerow,3] = testACC\n",
    "            trainResults[scorerow,3] = trainACC\n",
    "            \n",
    "            \n",
    "            \n",
    "\n",
    "            \n",
    "            scorerow +=1\n",
    "            print(scorerow)\n",
    "        \n",
    "        \n",
    "        '''testResults[avgrow,0] = treeAccSumtest / 3.0\n",
    "        trainResults[avgrow,0] = treeAccSumtrain / 3.0\n",
    "        \n",
    "        testResults[avgrow,1] = knnAccSumtest / 3.0\n",
    "        trainResults[avgrow,1] = knnAccSumtrain / 3.0\n",
    "        \n",
    "        testResults[avgrow,2] = svmAccSumtest / 3.0\n",
    "        trainResults[avgrow,2] = svmAccSumtrain / 3.0'''\n",
    "        \n",
    "        testResults[avgrow,3] = bubbleAccSumtest / 3.0\n",
    "        trainResults[avgrow,3] = bubbleAccSumtrain / 3.0\n",
    "        \n",
    "        \n",
    "        \n",
    "        avgrow +=1\n",
    "            \n",
    "            \n",
    "            \n",
    "       "
   ]
  },
  {
   "cell_type": "code",
   "execution_count": 21,
   "metadata": {},
   "outputs": [
    {
     "data": {
      "text/plain": [
       "array([[ 0.        ,  0.        ,  0.        ,  0.71656051],\n",
       "       [ 0.        ,  0.        ,  0.        ,  0.71656051],\n",
       "       [ 0.        ,  0.        ,  0.        ,  0.71656051],\n",
       "       [ 0.        ,  0.        ,  0.        ,  0.76530612],\n",
       "       [ 0.        ,  0.        ,  0.        ,  0.76530612],\n",
       "       [ 0.        ,  0.        ,  0.        ,  0.76530612],\n",
       "       [ 0.        ,  0.        ,  0.        ,  0.72151899],\n",
       "       [ 0.        ,  0.        ,  0.        ,  0.72151899],\n",
       "       [ 0.        ,  0.        ,  0.        ,  0.72151899],\n",
       "       [ 0.        ,  0.        ,  0.        ,  0.        ],\n",
       "       [ 0.        ,  0.        ,  0.        ,  0.        ],\n",
       "       [ 0.        ,  0.        ,  0.        ,  0.        ],\n",
       "       [ 0.        ,  0.        ,  0.        ,  0.        ],\n",
       "       [ 0.        ,  0.        ,  0.        ,  0.        ],\n",
       "       [ 0.        ,  0.        ,  0.        ,  0.        ],\n",
       "       [ 0.        ,  0.        ,  0.        ,  0.        ],\n",
       "       [ 0.        ,  0.        ,  0.        ,  0.        ],\n",
       "       [ 0.        ,  0.        ,  0.        ,  0.        ],\n",
       "       [ 0.        ,  0.        ,  0.        ,  0.        ],\n",
       "       [ 0.        ,  0.        ,  0.        ,  0.        ],\n",
       "       [ 0.        ,  0.        ,  0.        ,  0.        ],\n",
       "       [ 0.        ,  0.        ,  0.        ,  0.        ],\n",
       "       [ 0.        ,  0.        ,  0.        ,  0.        ],\n",
       "       [ 0.        ,  0.        ,  0.        ,  0.        ],\n",
       "       [ 0.        ,  0.        ,  0.        ,  0.        ],\n",
       "       [ 0.        ,  0.        ,  0.        ,  0.        ],\n",
       "       [ 0.        ,  0.        ,  0.        ,  0.        ],\n",
       "       [ 0.        ,  0.        ,  0.        ,  0.71656051],\n",
       "       [ 0.        ,  0.        ,  0.        ,  0.76530612],\n",
       "       [ 0.        ,  0.        ,  0.        ,  0.72151899],\n",
       "       [ 0.        ,  0.        ,  0.        ,  0.        ],\n",
       "       [ 0.        ,  0.        ,  0.        ,  0.        ],\n",
       "       [ 0.        ,  0.        ,  0.        ,  0.        ],\n",
       "       [ 0.        ,  0.        ,  0.        ,  0.        ],\n",
       "       [ 0.        ,  0.        ,  0.        ,  0.        ],\n",
       "       [ 0.        ,  0.        ,  0.        ,  0.        ]])"
      ]
     },
     "execution_count": 21,
     "metadata": {},
     "output_type": "execute_result"
    }
   ],
   "source": [
    "testResults"
   ]
  },
  {
   "cell_type": "code",
   "execution_count": 22,
   "metadata": {},
   "outputs": [
    {
     "data": {
      "text/plain": [
       "array([[ 0.        ,  0.        ,  0.        ,  0.73076923],\n",
       "       [ 0.        ,  0.        ,  0.        ,  0.73076923],\n",
       "       [ 0.        ,  0.        ,  0.        ,  0.73076923],\n",
       "       [ 0.        ,  0.        ,  0.        ,  0.71938776],\n",
       "       [ 0.        ,  0.        ,  0.        ,  0.71938776],\n",
       "       [ 0.        ,  0.        ,  0.        ,  0.71938776],\n",
       "       [ 0.        ,  0.        ,  0.        ,  0.7284345 ],\n",
       "       [ 0.        ,  0.        ,  0.        ,  0.7284345 ],\n",
       "       [ 0.        ,  0.        ,  0.        ,  0.7284345 ],\n",
       "       [ 0.        ,  0.        ,  0.        ,  0.        ],\n",
       "       [ 0.        ,  0.        ,  0.        ,  0.        ],\n",
       "       [ 0.        ,  0.        ,  0.        ,  0.        ],\n",
       "       [ 0.        ,  0.        ,  0.        ,  0.        ],\n",
       "       [ 0.        ,  0.        ,  0.        ,  0.        ],\n",
       "       [ 0.        ,  0.        ,  0.        ,  0.        ],\n",
       "       [ 0.        ,  0.        ,  0.        ,  0.        ],\n",
       "       [ 0.        ,  0.        ,  0.        ,  0.        ],\n",
       "       [ 0.        ,  0.        ,  0.        ,  0.        ],\n",
       "       [ 0.        ,  0.        ,  0.        ,  0.        ],\n",
       "       [ 0.        ,  0.        ,  0.        ,  0.        ],\n",
       "       [ 0.        ,  0.        ,  0.        ,  0.        ],\n",
       "       [ 0.        ,  0.        ,  0.        ,  0.        ],\n",
       "       [ 0.        ,  0.        ,  0.        ,  0.        ],\n",
       "       [ 0.        ,  0.        ,  0.        ,  0.        ],\n",
       "       [ 0.        ,  0.        ,  0.        ,  0.        ],\n",
       "       [ 0.        ,  0.        ,  0.        ,  0.        ],\n",
       "       [ 0.        ,  0.        ,  0.        ,  0.        ],\n",
       "       [ 0.        ,  0.        ,  0.        ,  0.73076923],\n",
       "       [ 0.        ,  0.        ,  0.        ,  0.71938776],\n",
       "       [ 0.        ,  0.        ,  0.        ,  0.7284345 ],\n",
       "       [ 0.        ,  0.        ,  0.        ,  0.        ],\n",
       "       [ 0.        ,  0.        ,  0.        ,  0.        ],\n",
       "       [ 0.        ,  0.        ,  0.        ,  0.        ],\n",
       "       [ 0.        ,  0.        ,  0.        ,  0.        ],\n",
       "       [ 0.        ,  0.        ,  0.        ,  0.        ],\n",
       "       [ 0.        ,  0.        ,  0.        ,  0.        ]])"
      ]
     },
     "execution_count": 22,
     "metadata": {},
     "output_type": "execute_result"
    }
   ],
   "source": [
    "trainResults"
   ]
  },
  {
   "cell_type": "code",
   "execution_count": null,
   "metadata": {
    "collapsed": true
   },
   "outputs": [],
   "source": []
  },
  {
   "cell_type": "code",
   "execution_count": null,
   "metadata": {
    "collapsed": true
   },
   "outputs": [],
   "source": []
  },
  {
   "cell_type": "code",
   "execution_count": null,
   "metadata": {
    "collapsed": true
   },
   "outputs": [],
   "source": []
  },
  {
   "cell_type": "code",
   "execution_count": null,
   "metadata": {
    "collapsed": true
   },
   "outputs": [],
   "source": []
  },
  {
   "cell_type": "code",
   "execution_count": null,
   "metadata": {
    "collapsed": true
   },
   "outputs": [],
   "source": []
  }
 ],
 "metadata": {
  "kernelspec": {
   "display_name": "Python 2",
   "language": "python",
   "name": "python2"
  },
  "language_info": {
   "codemirror_mode": {
    "name": "ipython",
    "version": 2
   },
   "file_extension": ".py",
   "mimetype": "text/x-python",
   "name": "python",
   "nbconvert_exporter": "python",
   "pygments_lexer": "ipython2",
   "version": "2.7.13"
  }
 },
 "nbformat": 4,
 "nbformat_minor": 2
}
